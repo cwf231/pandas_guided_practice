{
 "cells": [
  {
   "cell_type": "markdown",
   "id": "3a563d12",
   "metadata": {},
   "source": [
    "# Pandas - Guided Practice\n",
    "<img src='../data/titanic_bw.jpg' width=80%>"
   ]
  },
  {
   "cell_type": "markdown",
   "id": "ae362a9b",
   "metadata": {},
   "source": [
    "## Import Library"
   ]
  },
  {
   "cell_type": "code",
   "execution_count": null,
   "id": "88bd3bf7",
   "metadata": {
    "ExecuteTime": {
     "end_time": "2021-12-02T00:06:39.491798Z",
     "start_time": "2021-12-02T00:06:39.489199Z"
    }
   },
   "outputs": [],
   "source": [
    "# Import Pandas\n"
   ]
  },
  {
   "cell_type": "code",
   "execution_count": null,
   "id": "ef371f6c",
   "metadata": {
    "ExecuteTime": {
     "end_time": "2021-12-02T00:06:39.630747Z",
     "start_time": "2021-12-02T00:06:39.495654Z"
    }
   },
   "outputs": [],
   "source": [
    "!ls"
   ]
  },
  {
   "cell_type": "markdown",
   "id": "83cc41d2",
   "metadata": {},
   "source": [
    "## Load and Preview Data"
   ]
  },
  {
   "cell_type": "code",
   "execution_count": null,
   "id": "33ba4e30",
   "metadata": {
    "ExecuteTime": {
     "end_time": "2021-12-02T00:06:39.636192Z",
     "start_time": "2021-12-02T00:06:39.633827Z"
    }
   },
   "outputs": [],
   "source": [
    "# Load and save data as a variable. Show the dataframe.\n"
   ]
  },
  {
   "cell_type": "markdown",
   "id": "ac400fb8",
   "metadata": {},
   "source": [
    "## View Summary and Description of Data"
   ]
  },
  {
   "cell_type": "code",
   "execution_count": null,
   "id": "dbadccbc",
   "metadata": {
    "ExecuteTime": {
     "end_time": "2021-12-02T00:06:39.641970Z",
     "start_time": "2021-12-02T00:06:39.639563Z"
    },
    "scrolled": false
   },
   "outputs": [],
   "source": [
    "# View summary of data.\n"
   ]
  },
  {
   "cell_type": "code",
   "execution_count": null,
   "id": "98bf5d9b",
   "metadata": {
    "ExecuteTime": {
     "end_time": "2021-12-02T00:06:39.647265Z",
     "start_time": "2021-12-02T00:06:39.644821Z"
    }
   },
   "outputs": [],
   "source": [
    "# View descriptive statistics of data.\n"
   ]
  },
  {
   "cell_type": "code",
   "execution_count": null,
   "id": "88a132db",
   "metadata": {
    "ExecuteTime": {
     "end_time": "2021-12-02T00:04:00.991682Z",
     "start_time": "2021-12-02T00:04:00.972470Z"
    }
   },
   "outputs": [],
   "source": []
  },
  {
   "cell_type": "code",
   "execution_count": null,
   "id": "27bad37d",
   "metadata": {
    "ExecuteTime": {
     "end_time": "2021-12-02T00:04:01.010955Z",
     "start_time": "2021-12-02T00:04:00.994390Z"
    }
   },
   "outputs": [],
   "source": []
  },
  {
   "cell_type": "code",
   "execution_count": null,
   "id": "4b3b473b",
   "metadata": {
    "ExecuteTime": {
     "end_time": "2021-12-02T00:04:01.029455Z",
     "start_time": "2021-12-02T00:04:01.012882Z"
    }
   },
   "outputs": [],
   "source": []
  },
  {
   "cell_type": "markdown",
   "id": "80e6f55d",
   "metadata": {},
   "source": [
    "## Explore\n",
    "- Check number of rows / columns.\n",
    "- Look at individual columns.\n",
    "- Check if (and where) there are missing values."
   ]
  },
  {
   "cell_type": "code",
   "execution_count": null,
   "id": "0ccb6771",
   "metadata": {
    "ExecuteTime": {
     "end_time": "2021-12-02T00:06:39.652109Z",
     "start_time": "2021-12-02T00:06:39.649857Z"
    }
   },
   "outputs": [],
   "source": [
    "# Check shape.\n"
   ]
  },
  {
   "cell_type": "code",
   "execution_count": null,
   "id": "2f461023",
   "metadata": {
    "ExecuteTime": {
     "end_time": "2021-12-02T00:06:39.657048Z",
     "start_time": "2021-12-02T00:06:39.654569Z"
    }
   },
   "outputs": [],
   "source": [
    "# len(df)\n"
   ]
  },
  {
   "cell_type": "code",
   "execution_count": null,
   "id": "69e0f0a9",
   "metadata": {
    "ExecuteTime": {
     "end_time": "2021-12-02T00:06:39.662793Z",
     "start_time": "2021-12-02T00:06:39.660487Z"
    }
   },
   "outputs": [],
   "source": [
    "# Look at single columns\n"
   ]
  },
  {
   "cell_type": "code",
   "execution_count": null,
   "id": "0b7c3c22",
   "metadata": {
    "ExecuteTime": {
     "end_time": "2021-12-02T00:04:01.062725Z",
     "start_time": "2021-12-02T00:04:01.056895Z"
    }
   },
   "outputs": [],
   "source": []
  },
  {
   "cell_type": "code",
   "execution_count": null,
   "id": "cd67fe35",
   "metadata": {
    "ExecuteTime": {
     "end_time": "2021-12-02T00:06:39.667000Z",
     "start_time": "2021-12-02T00:06:39.664855Z"
    }
   },
   "outputs": [],
   "source": [
    "# Check for missing values.\n"
   ]
  },
  {
   "cell_type": "markdown",
   "id": "3616ea83",
   "metadata": {},
   "source": [
    "## Alter\n",
    "- Drop rows.\n",
    "- Drop columns.\n",
    "- Slice out data based on some conditions.\n",
    "- Alter values based on some criteria."
   ]
  },
  {
   "cell_type": "code",
   "execution_count": null,
   "id": "be6a3b52",
   "metadata": {
    "ExecuteTime": {
     "end_time": "2021-12-02T00:06:39.671639Z",
     "start_time": "2021-12-02T00:06:39.669103Z"
    }
   },
   "outputs": [],
   "source": [
    "# Dropping missing values.\n"
   ]
  },
  {
   "cell_type": "code",
   "execution_count": null,
   "id": "b8b10238",
   "metadata": {
    "ExecuteTime": {
     "end_time": "2021-12-02T00:04:01.118461Z",
     "start_time": "2021-12-02T00:04:01.114046Z"
    }
   },
   "outputs": [],
   "source": []
  },
  {
   "cell_type": "code",
   "execution_count": null,
   "id": "7eb5ddf7",
   "metadata": {
    "ExecuteTime": {
     "end_time": "2021-12-02T00:04:01.127759Z",
     "start_time": "2021-12-02T00:04:01.120727Z"
    }
   },
   "outputs": [],
   "source": []
  },
  {
   "cell_type": "code",
   "execution_count": null,
   "id": "e1722caa",
   "metadata": {
    "ExecuteTime": {
     "end_time": "2021-12-02T00:04:01.134533Z",
     "start_time": "2021-12-02T00:04:01.130335Z"
    }
   },
   "outputs": [],
   "source": []
  },
  {
   "cell_type": "code",
   "execution_count": null,
   "id": "baeb3001",
   "metadata": {
    "ExecuteTime": {
     "end_time": "2021-12-02T00:06:39.677539Z",
     "start_time": "2021-12-02T00:06:39.674540Z"
    }
   },
   "outputs": [],
   "source": [
    "# Dropping rows.\n"
   ]
  },
  {
   "cell_type": "code",
   "execution_count": null,
   "id": "53b6e899",
   "metadata": {
    "ExecuteTime": {
     "end_time": "2021-12-02T00:06:39.687409Z",
     "start_time": "2021-12-02T00:06:39.684621Z"
    }
   },
   "outputs": [],
   "source": [
    "# Dropping columns.\n"
   ]
  },
  {
   "cell_type": "code",
   "execution_count": null,
   "id": "e5606470",
   "metadata": {
    "ExecuteTime": {
     "end_time": "2021-12-02T00:04:01.220896Z",
     "start_time": "2021-12-02T00:04:01.204694Z"
    }
   },
   "outputs": [],
   "source": []
  },
  {
   "cell_type": "code",
   "execution_count": null,
   "id": "59e777bc",
   "metadata": {
    "ExecuteTime": {
     "end_time": "2021-12-02T00:04:01.243566Z",
     "start_time": "2021-12-02T00:04:01.223330Z"
    }
   },
   "outputs": [],
   "source": []
  },
  {
   "cell_type": "code",
   "execution_count": null,
   "id": "ed1b3059",
   "metadata": {
    "ExecuteTime": {
     "end_time": "2021-12-02T00:04:01.250198Z",
     "start_time": "2021-12-02T00:04:01.246128Z"
    }
   },
   "outputs": [],
   "source": []
  },
  {
   "cell_type": "code",
   "execution_count": null,
   "id": "754a9771",
   "metadata": {
    "ExecuteTime": {
     "end_time": "2021-12-02T00:06:39.695190Z",
     "start_time": "2021-12-02T00:06:39.691754Z"
    }
   },
   "outputs": [],
   "source": [
    "# Slicing data based on a condition. (using square brackets)\n"
   ]
  },
  {
   "cell_type": "code",
   "execution_count": null,
   "id": "8dfcbfcd",
   "metadata": {
    "ExecuteTime": {
     "end_time": "2021-12-02T00:04:01.282292Z",
     "start_time": "2021-12-02T00:04:01.260123Z"
    }
   },
   "outputs": [],
   "source": []
  },
  {
   "cell_type": "code",
   "execution_count": null,
   "id": "03ea664a",
   "metadata": {
    "ExecuteTime": {
     "end_time": "2021-12-02T00:04:01.323954Z",
     "start_time": "2021-12-02T00:04:01.293264Z"
    }
   },
   "outputs": [],
   "source": []
  },
  {
   "cell_type": "code",
   "execution_count": null,
   "id": "f6ec32fb",
   "metadata": {
    "ExecuteTime": {
     "end_time": "2021-12-02T00:04:01.332211Z",
     "start_time": "2021-12-02T00:04:01.326195Z"
    }
   },
   "outputs": [],
   "source": []
  },
  {
   "cell_type": "code",
   "execution_count": null,
   "id": "e3757f5f",
   "metadata": {
    "ExecuteTime": {
     "end_time": "2021-12-02T00:06:39.701034Z",
     "start_time": "2021-12-02T00:06:39.698079Z"
    }
   },
   "outputs": [],
   "source": [
    "# Preferred method (using .loc)\n"
   ]
  },
  {
   "cell_type": "code",
   "execution_count": null,
   "id": "b93caab6",
   "metadata": {
    "ExecuteTime": {
     "end_time": "2021-12-02T00:04:01.372978Z",
     "start_time": "2021-12-02T00:04:01.364871Z"
    }
   },
   "outputs": [],
   "source": []
  },
  {
   "cell_type": "code",
   "execution_count": null,
   "id": "9daad552",
   "metadata": {
    "ExecuteTime": {
     "end_time": "2021-12-02T00:04:01.391812Z",
     "start_time": "2021-12-02T00:04:01.375288Z"
    }
   },
   "outputs": [],
   "source": []
  },
  {
   "cell_type": "code",
   "execution_count": null,
   "id": "d3227787",
   "metadata": {
    "ExecuteTime": {
     "end_time": "2021-12-02T00:04:01.403190Z",
     "start_time": "2021-12-02T00:04:01.394680Z"
    }
   },
   "outputs": [],
   "source": []
  },
  {
   "cell_type": "code",
   "execution_count": null,
   "id": "774ae6e3",
   "metadata": {
    "ExecuteTime": {
     "end_time": "2021-12-02T00:06:39.705438Z",
     "start_time": "2021-12-02T00:06:39.702917Z"
    }
   },
   "outputs": [],
   "source": [
    "# Altering data based on some criteria.\n"
   ]
  },
  {
   "cell_type": "code",
   "execution_count": null,
   "id": "6803dd52",
   "metadata": {
    "ExecuteTime": {
     "end_time": "2021-12-02T00:04:01.470764Z",
     "start_time": "2021-12-02T00:04:01.443047Z"
    }
   },
   "outputs": [],
   "source": []
  },
  {
   "cell_type": "code",
   "execution_count": null,
   "id": "62065e70",
   "metadata": {
    "ExecuteTime": {
     "end_time": "2021-12-02T00:04:01.480659Z",
     "start_time": "2021-12-02T00:04:01.473689Z"
    }
   },
   "outputs": [],
   "source": []
  },
  {
   "cell_type": "code",
   "execution_count": null,
   "id": "84d9e770",
   "metadata": {
    "ExecuteTime": {
     "end_time": "2021-12-02T00:04:01.487546Z",
     "start_time": "2021-12-02T00:04:01.482948Z"
    }
   },
   "outputs": [],
   "source": []
  },
  {
   "cell_type": "code",
   "execution_count": null,
   "id": "3875eeb0",
   "metadata": {
    "ExecuteTime": {
     "end_time": "2021-12-02T00:04:01.500186Z",
     "start_time": "2021-12-02T00:04:01.490632Z"
    }
   },
   "outputs": [],
   "source": []
  },
  {
   "cell_type": "code",
   "execution_count": null,
   "id": "9fca3e39",
   "metadata": {},
   "outputs": [],
   "source": []
  }
 ],
 "metadata": {
  "kernelspec": {
   "display_name": "Python [conda env:learn-env] *",
   "language": "python",
   "name": "conda-env-learn-env-py"
  },
  "language_info": {
   "codemirror_mode": {
    "name": "ipython",
    "version": 3
   },
   "file_extension": ".py",
   "mimetype": "text/x-python",
   "name": "python",
   "nbconvert_exporter": "python",
   "pygments_lexer": "ipython3",
   "version": "3.6.9"
  },
  "toc": {
   "base_numbering": 1,
   "nav_menu": {},
   "number_sections": false,
   "sideBar": true,
   "skip_h1_title": false,
   "title_cell": "Table of Contents",
   "title_sidebar": "Contents",
   "toc_cell": false,
   "toc_position": {
    "height": "calc(100% - 180px)",
    "left": "10px",
    "top": "150px",
    "width": "290.2px"
   },
   "toc_section_display": true,
   "toc_window_display": true
  }
 },
 "nbformat": 4,
 "nbformat_minor": 5
}
