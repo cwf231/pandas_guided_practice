{
 "cells": [
  {
   "cell_type": "markdown",
   "id": "67ea4fe7",
   "metadata": {},
   "source": [
    "# Pandas - Guided Practice\n",
    "<img src='data/titanic_bw.jpg' width=80%>"
   ]
  },
  {
   "cell_type": "markdown",
   "id": "70afb813",
   "metadata": {},
   "source": [
    "## Import Library"
   ]
  },
  {
   "cell_type": "code",
   "execution_count": null,
   "id": "a5310e2e",
   "metadata": {
    "ExecuteTime": {
     "end_time": "2021-12-01T22:13:32.115730Z",
     "start_time": "2021-12-01T22:13:31.519903Z"
    }
   },
   "outputs": [],
   "source": [
    "# Import Pandas\n"
   ]
  },
  {
   "cell_type": "markdown",
   "id": "2313f5e5",
   "metadata": {},
   "source": [
    "## Load and Preview Data"
   ]
  },
  {
   "cell_type": "code",
   "execution_count": null,
   "id": "5b1f8de4",
   "metadata": {},
   "outputs": [],
   "source": [
    "# Load and save data as a variable. Show the dataframe.\n"
   ]
  },
  {
   "cell_type": "markdown",
   "id": "dadcd6f0",
   "metadata": {},
   "source": [
    "## View Summary and Description of Data"
   ]
  },
  {
   "cell_type": "code",
   "execution_count": null,
   "id": "a7ea4fd8",
   "metadata": {
    "ExecuteTime": {
     "end_time": "2021-12-01T22:14:32.104565Z",
     "start_time": "2021-12-01T22:14:32.073867Z"
    }
   },
   "outputs": [],
   "source": [
    "# View summary of data.\n"
   ]
  },
  {
   "cell_type": "code",
   "execution_count": null,
   "id": "7bdf8725",
   "metadata": {},
   "outputs": [],
   "source": [
    "# View descriptive statistics of data.\n"
   ]
  },
  {
   "cell_type": "markdown",
   "id": "4651e5ac",
   "metadata": {},
   "source": [
    "## Explore\n",
    "- Check number of rows / columns.\n",
    "- Check if (and where) there are missing values."
   ]
  },
  {
   "cell_type": "code",
   "execution_count": null,
   "id": "5c8fcb48",
   "metadata": {},
   "outputs": [],
   "source": [
    "# Check shape.\n"
   ]
  },
  {
   "cell_type": "code",
   "execution_count": null,
   "id": "fb89e7b4",
   "metadata": {},
   "outputs": [],
   "source": [
    "# Check for missing values.\n"
   ]
  },
  {
   "cell_type": "markdown",
   "id": "b04901d9",
   "metadata": {},
   "source": [
    "## Alter\n",
    "- Drop rows.\n",
    "- Drop columns.\n",
    "- Slice out data based on some conditions.\n",
    "- Alter values based on some criteria."
   ]
  },
  {
   "cell_type": "code",
   "execution_count": null,
   "id": "f61083ae",
   "metadata": {},
   "outputs": [],
   "source": [
    "# Dropping rows.\n"
   ]
  },
  {
   "cell_type": "code",
   "execution_count": null,
   "id": "9b4047c7",
   "metadata": {},
   "outputs": [],
   "source": []
  },
  {
   "cell_type": "code",
   "execution_count": null,
   "id": "e6ba365c",
   "metadata": {},
   "outputs": [],
   "source": [
    "# Dropping columns.\n"
   ]
  },
  {
   "cell_type": "code",
   "execution_count": null,
   "id": "5497b4bf",
   "metadata": {},
   "outputs": [],
   "source": []
  },
  {
   "cell_type": "code",
   "execution_count": null,
   "id": "b5a51f9a",
   "metadata": {},
   "outputs": [],
   "source": [
    "# Slicing data based on a condition.\n"
   ]
  },
  {
   "cell_type": "code",
   "execution_count": null,
   "id": "4ce7f4c6",
   "metadata": {},
   "outputs": [],
   "source": []
  },
  {
   "cell_type": "code",
   "execution_count": null,
   "id": "a8c42f0f",
   "metadata": {
    "ExecuteTime": {
     "end_time": "2021-12-01T22:18:28.375875Z",
     "start_time": "2021-12-01T22:18:28.373216Z"
    }
   },
   "outputs": [],
   "source": [
    "# Altering data based on some criteria.\n"
   ]
  },
  {
   "cell_type": "code",
   "execution_count": null,
   "id": "263fd9b9",
   "metadata": {},
   "outputs": [],
   "source": []
  }
 ],
 "metadata": {
  "kernelspec": {
   "display_name": "Python [conda env:learn-env] *",
   "language": "python",
   "name": "conda-env-learn-env-py"
  },
  "language_info": {
   "codemirror_mode": {
    "name": "ipython",
    "version": 3
   },
   "file_extension": ".py",
   "mimetype": "text/x-python",
   "name": "python",
   "nbconvert_exporter": "python",
   "pygments_lexer": "ipython3",
   "version": "3.6.9"
  },
  "toc": {
   "base_numbering": 1,
   "nav_menu": {},
   "number_sections": false,
   "sideBar": true,
   "skip_h1_title": false,
   "title_cell": "Table of Contents",
   "title_sidebar": "Contents",
   "toc_cell": false,
   "toc_position": {},
   "toc_section_display": true,
   "toc_window_display": true
  }
 },
 "nbformat": 4,
 "nbformat_minor": 5
}
