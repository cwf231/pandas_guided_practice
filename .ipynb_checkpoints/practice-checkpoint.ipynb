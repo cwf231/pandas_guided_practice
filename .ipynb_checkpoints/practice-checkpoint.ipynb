{
 "cells": [
  {
   "cell_type": "markdown",
   "id": "133fd368",
   "metadata": {},
   "source": [
    "# Pandas - Guided Practice\n",
    "<img src='data/titanic_bw.jpg' width=80%>\n",
    "\n",
    "---\n",
    "\n",
    "### Objective\n",
    "*Review or introduce the most common methods and uses in Pandas.*"
   ]
  },
  {
   "cell_type": "markdown",
   "id": "3ffa20d6",
   "metadata": {},
   "source": [
    "## Import Library"
   ]
  },
  {
   "cell_type": "code",
   "execution_count": null,
   "id": "782eca65",
   "metadata": {
    "ExecuteTime": {
     "end_time": "2022-01-19T20:26:15.055646Z",
     "start_time": "2022-01-19T20:26:14.575410Z"
    }
   },
   "outputs": [],
   "source": [
    "# Import Pandas and matplotlib/seaborn for visualizations.\n",
    "import pandas as pd"
   ]
  },
  {
   "cell_type": "code",
   "execution_count": null,
   "id": "f22629cb",
   "metadata": {
    "ExecuteTime": {
     "end_time": "2021-12-02T00:06:39.630747Z",
     "start_time": "2021-12-02T00:06:39.495654Z"
    }
   },
   "outputs": [],
   "source": [
    "!ls"
   ]
  },
  {
   "cell_type": "markdown",
   "id": "36f4819f",
   "metadata": {},
   "source": [
    "## Creating Pandas DataFrame"
   ]
  },
  {
   "cell_type": "code",
   "execution_count": null,
   "id": "836b3234",
   "metadata": {},
   "outputs": [],
   "source": [
    "# A Dictionary of Lists.\n"
   ]
  },
  {
   "cell_type": "code",
   "execution_count": null,
   "id": "9f9de34b",
   "metadata": {},
   "outputs": [],
   "source": [
    "# A List of Dictionaries\n"
   ]
  },
  {
   "cell_type": "code",
   "execution_count": null,
   "id": "bbe70421",
   "metadata": {
    "ExecuteTime": {
     "end_time": "2022-01-19T20:21:18.648047Z",
     "start_time": "2022-01-19T20:21:18.572771Z"
    }
   },
   "outputs": [],
   "source": [
    "# A List of Lists\n"
   ]
  },
  {
   "cell_type": "markdown",
   "id": "e9937f8f",
   "metadata": {},
   "source": [
    "## Loading Data from `csv`"
   ]
  },
  {
   "cell_type": "code",
   "execution_count": null,
   "id": "29ce3d2d",
   "metadata": {
    "ExecuteTime": {
     "end_time": "2022-01-19T20:26:42.961305Z",
     "start_time": "2022-01-19T20:26:42.909195Z"
    }
   },
   "outputs": [],
   "source": [
    "# Load and save data as a variable. Show the dataframe.\n"
   ]
  },
  {
   "cell_type": "markdown",
   "id": "ccbf03b2",
   "metadata": {},
   "source": [
    "## View Summary and Description of Data"
   ]
  },
  {
   "cell_type": "code",
   "execution_count": null,
   "id": "e4b6f83d",
   "metadata": {
    "ExecuteTime": {
     "end_time": "2021-12-02T00:06:39.641970Z",
     "start_time": "2021-12-02T00:06:39.639563Z"
    },
    "scrolled": false
   },
   "outputs": [],
   "source": [
    "# View summary of data.\n"
   ]
  },
  {
   "cell_type": "code",
   "execution_count": null,
   "id": "7355263d",
   "metadata": {
    "ExecuteTime": {
     "end_time": "2021-12-02T00:06:39.647265Z",
     "start_time": "2021-12-02T00:06:39.644821Z"
    }
   },
   "outputs": [],
   "source": [
    "# View descriptive statistics of data.\n"
   ]
  },
  {
   "cell_type": "code",
   "execution_count": null,
   "id": "7d2168db",
   "metadata": {
    "ExecuteTime": {
     "end_time": "2021-12-02T00:04:00.991682Z",
     "start_time": "2021-12-02T00:04:00.972470Z"
    }
   },
   "outputs": [],
   "source": []
  },
  {
   "cell_type": "code",
   "execution_count": null,
   "id": "f1d1af72",
   "metadata": {
    "ExecuteTime": {
     "end_time": "2021-12-02T00:04:01.010955Z",
     "start_time": "2021-12-02T00:04:00.994390Z"
    }
   },
   "outputs": [],
   "source": []
  },
  {
   "cell_type": "code",
   "execution_count": null,
   "id": "9f240583",
   "metadata": {
    "ExecuteTime": {
     "end_time": "2021-12-02T00:04:01.029455Z",
     "start_time": "2021-12-02T00:04:01.012882Z"
    }
   },
   "outputs": [],
   "source": []
  },
  {
   "cell_type": "markdown",
   "id": "dc667809",
   "metadata": {},
   "source": [
    "## Explore\n",
    "- Check number of rows / columns.\n",
    "- Look at individual columns.\n",
    "- Check if (and where) there are missing values."
   ]
  },
  {
   "cell_type": "code",
   "execution_count": null,
   "id": "56d05a43",
   "metadata": {
    "ExecuteTime": {
     "end_time": "2021-12-02T00:06:39.652109Z",
     "start_time": "2021-12-02T00:06:39.649857Z"
    }
   },
   "outputs": [],
   "source": [
    "# Check shape.\n"
   ]
  },
  {
   "cell_type": "code",
   "execution_count": null,
   "id": "3def50a1",
   "metadata": {
    "ExecuteTime": {
     "end_time": "2021-12-02T00:06:39.657048Z",
     "start_time": "2021-12-02T00:06:39.654569Z"
    }
   },
   "outputs": [],
   "source": [
    "# len(df) - not preferred.\n"
   ]
  },
  {
   "cell_type": "code",
   "execution_count": null,
   "id": "59b750f4",
   "metadata": {
    "ExecuteTime": {
     "end_time": "2021-12-02T00:06:39.662793Z",
     "start_time": "2021-12-02T00:06:39.660487Z"
    }
   },
   "outputs": [],
   "source": [
    "# Look at single columns\n"
   ]
  },
  {
   "cell_type": "code",
   "execution_count": null,
   "id": "6bb08b67",
   "metadata": {
    "ExecuteTime": {
     "end_time": "2021-12-02T00:04:01.062725Z",
     "start_time": "2021-12-02T00:04:01.056895Z"
    }
   },
   "outputs": [],
   "source": []
  },
  {
   "cell_type": "code",
   "execution_count": null,
   "id": "00412d3d",
   "metadata": {
    "ExecuteTime": {
     "end_time": "2021-12-02T00:06:39.667000Z",
     "start_time": "2021-12-02T00:06:39.664855Z"
    }
   },
   "outputs": [],
   "source": [
    "# Check for missing values.\n"
   ]
  },
  {
   "cell_type": "markdown",
   "id": "01a574c9",
   "metadata": {},
   "source": [
    "### Simple Plotting"
   ]
  },
  {
   "cell_type": "code",
   "execution_count": null,
   "id": "cd4fda26",
   "metadata": {},
   "outputs": [],
   "source": [
    "# Survivors.\n"
   ]
  },
  {
   "cell_type": "code",
   "execution_count": null,
   "id": "ac83f7a5",
   "metadata": {},
   "outputs": [],
   "source": [
    "# Histogram showing male / female ages.\n",
    "## LONGHAND: matplotlib and pandas slicing.\n"
   ]
  },
  {
   "cell_type": "code",
   "execution_count": null,
   "id": "91a097e7",
   "metadata": {},
   "outputs": [],
   "source": [
    "## Shorthand: seaborn.\n"
   ]
  },
  {
   "cell_type": "code",
   "execution_count": null,
   "id": "b2e879f5",
   "metadata": {},
   "outputs": [],
   "source": [
    "# Most popular `embark_town`."
   ]
  },
  {
   "cell_type": "markdown",
   "id": "e2f4dbd9",
   "metadata": {},
   "source": [
    "## Alter\n",
    "- Group By.\n",
    "- Drop rows.\n",
    "- Drop columns.\n",
    "- Slice out data based on some conditions.\n",
    "- Alter values based on some criteria."
   ]
  },
  {
   "cell_type": "code",
   "execution_count": null,
   "id": "43c6afbe",
   "metadata": {},
   "outputs": [],
   "source": [
    "# Use `group_by` to reindex.\n"
   ]
  },
  {
   "cell_type": "code",
   "execution_count": null,
   "id": "d23e1510",
   "metadata": {
    "ExecuteTime": {
     "end_time": "2021-12-02T00:06:39.671639Z",
     "start_time": "2021-12-02T00:06:39.669103Z"
    }
   },
   "outputs": [],
   "source": [
    "# Dropping missing values.\n"
   ]
  },
  {
   "cell_type": "code",
   "execution_count": null,
   "id": "5e09eb45",
   "metadata": {
    "ExecuteTime": {
     "end_time": "2021-12-02T00:04:01.118461Z",
     "start_time": "2021-12-02T00:04:01.114046Z"
    }
   },
   "outputs": [],
   "source": []
  },
  {
   "cell_type": "code",
   "execution_count": null,
   "id": "fdaade96",
   "metadata": {
    "ExecuteTime": {
     "end_time": "2021-12-02T00:04:01.127759Z",
     "start_time": "2021-12-02T00:04:01.120727Z"
    }
   },
   "outputs": [],
   "source": []
  },
  {
   "cell_type": "code",
   "execution_count": null,
   "id": "6b886937",
   "metadata": {
    "ExecuteTime": {
     "end_time": "2021-12-02T00:04:01.134533Z",
     "start_time": "2021-12-02T00:04:01.130335Z"
    }
   },
   "outputs": [],
   "source": []
  },
  {
   "cell_type": "code",
   "execution_count": null,
   "id": "d0bb32d9",
   "metadata": {
    "ExecuteTime": {
     "end_time": "2021-12-02T00:06:39.677539Z",
     "start_time": "2021-12-02T00:06:39.674540Z"
    }
   },
   "outputs": [],
   "source": [
    "# Dropping rows.\n"
   ]
  },
  {
   "cell_type": "code",
   "execution_count": null,
   "id": "156cbd8a",
   "metadata": {
    "ExecuteTime": {
     "end_time": "2021-12-02T00:06:39.687409Z",
     "start_time": "2021-12-02T00:06:39.684621Z"
    }
   },
   "outputs": [],
   "source": [
    "# Dropping columns.\n"
   ]
  },
  {
   "cell_type": "code",
   "execution_count": null,
   "id": "f30c063f",
   "metadata": {
    "ExecuteTime": {
     "end_time": "2021-12-02T00:04:01.220896Z",
     "start_time": "2021-12-02T00:04:01.204694Z"
    }
   },
   "outputs": [],
   "source": []
  },
  {
   "cell_type": "code",
   "execution_count": null,
   "id": "d3dfe596",
   "metadata": {
    "ExecuteTime": {
     "end_time": "2021-12-02T00:04:01.243566Z",
     "start_time": "2021-12-02T00:04:01.223330Z"
    }
   },
   "outputs": [],
   "source": []
  },
  {
   "cell_type": "code",
   "execution_count": null,
   "id": "85f47009",
   "metadata": {
    "ExecuteTime": {
     "end_time": "2021-12-02T00:04:01.250198Z",
     "start_time": "2021-12-02T00:04:01.246128Z"
    }
   },
   "outputs": [],
   "source": []
  },
  {
   "cell_type": "code",
   "execution_count": null,
   "id": "ac8ac1a0",
   "metadata": {
    "ExecuteTime": {
     "end_time": "2021-12-02T00:06:39.695190Z",
     "start_time": "2021-12-02T00:06:39.691754Z"
    }
   },
   "outputs": [],
   "source": [
    "# Slicing data based on a condition. (using square brackets)\n"
   ]
  },
  {
   "cell_type": "code",
   "execution_count": null,
   "id": "bce32991",
   "metadata": {
    "ExecuteTime": {
     "end_time": "2021-12-02T00:04:01.282292Z",
     "start_time": "2021-12-02T00:04:01.260123Z"
    }
   },
   "outputs": [],
   "source": []
  },
  {
   "cell_type": "code",
   "execution_count": null,
   "id": "9de5367e",
   "metadata": {
    "ExecuteTime": {
     "end_time": "2021-12-02T00:04:01.323954Z",
     "start_time": "2021-12-02T00:04:01.293264Z"
    }
   },
   "outputs": [],
   "source": []
  },
  {
   "cell_type": "code",
   "execution_count": null,
   "id": "165eba05",
   "metadata": {
    "ExecuteTime": {
     "end_time": "2021-12-02T00:04:01.332211Z",
     "start_time": "2021-12-02T00:04:01.326195Z"
    }
   },
   "outputs": [],
   "source": []
  },
  {
   "cell_type": "code",
   "execution_count": null,
   "id": "cfef5bec",
   "metadata": {
    "ExecuteTime": {
     "end_time": "2021-12-02T00:06:39.701034Z",
     "start_time": "2021-12-02T00:06:39.698079Z"
    }
   },
   "outputs": [],
   "source": [
    "# Preferred method (using .loc)\n"
   ]
  },
  {
   "cell_type": "code",
   "execution_count": null,
   "id": "4ebd9ebc",
   "metadata": {
    "ExecuteTime": {
     "end_time": "2021-12-02T00:04:01.372978Z",
     "start_time": "2021-12-02T00:04:01.364871Z"
    }
   },
   "outputs": [],
   "source": []
  },
  {
   "cell_type": "code",
   "execution_count": null,
   "id": "4b5d8d5d",
   "metadata": {
    "ExecuteTime": {
     "end_time": "2021-12-02T00:04:01.391812Z",
     "start_time": "2021-12-02T00:04:01.375288Z"
    }
   },
   "outputs": [],
   "source": []
  },
  {
   "cell_type": "code",
   "execution_count": null,
   "id": "36fcc110",
   "metadata": {
    "ExecuteTime": {
     "end_time": "2021-12-02T00:04:01.403190Z",
     "start_time": "2021-12-02T00:04:01.394680Z"
    }
   },
   "outputs": [],
   "source": []
  },
  {
   "cell_type": "code",
   "execution_count": null,
   "id": "d53e8fe4",
   "metadata": {
    "ExecuteTime": {
     "end_time": "2021-12-02T00:06:39.705438Z",
     "start_time": "2021-12-02T00:06:39.702917Z"
    }
   },
   "outputs": [],
   "source": [
    "# Altering data based on some criteria.\n"
   ]
  },
  {
   "cell_type": "code",
   "execution_count": null,
   "id": "0fbb3cb6",
   "metadata": {
    "ExecuteTime": {
     "end_time": "2021-12-02T00:04:01.470764Z",
     "start_time": "2021-12-02T00:04:01.443047Z"
    }
   },
   "outputs": [],
   "source": []
  },
  {
   "cell_type": "code",
   "execution_count": null,
   "id": "b8d96386",
   "metadata": {
    "ExecuteTime": {
     "end_time": "2021-12-02T00:04:01.480659Z",
     "start_time": "2021-12-02T00:04:01.473689Z"
    }
   },
   "outputs": [],
   "source": []
  },
  {
   "cell_type": "code",
   "execution_count": null,
   "id": "20c23519",
   "metadata": {
    "ExecuteTime": {
     "end_time": "2021-12-02T00:04:01.487546Z",
     "start_time": "2021-12-02T00:04:01.482948Z"
    }
   },
   "outputs": [],
   "source": []
  },
  {
   "cell_type": "code",
   "execution_count": null,
   "id": "e5460998",
   "metadata": {
    "ExecuteTime": {
     "end_time": "2021-12-02T00:04:01.500186Z",
     "start_time": "2021-12-02T00:04:01.490632Z"
    }
   },
   "outputs": [],
   "source": []
  },
  {
   "cell_type": "code",
   "execution_count": null,
   "id": "8f5deec2",
   "metadata": {},
   "outputs": [],
   "source": []
  }
 ],
 "metadata": {
  "kernelspec": {
   "display_name": "Python [conda env:learn-env] *",
   "language": "python",
   "name": "conda-env-learn-env-py"
  },
  "language_info": {
   "codemirror_mode": {
    "name": "ipython",
    "version": 3
   },
   "file_extension": ".py",
   "mimetype": "text/x-python",
   "name": "python",
   "nbconvert_exporter": "python",
   "pygments_lexer": "ipython3",
   "version": "3.6.9"
  },
  "toc": {
   "base_numbering": 1,
   "nav_menu": {},
   "number_sections": false,
   "sideBar": true,
   "skip_h1_title": false,
   "title_cell": "Table of Contents",
   "title_sidebar": "Contents",
   "toc_cell": false,
   "toc_position": {
    "height": "calc(100% - 180px)",
    "left": "10px",
    "top": "150px",
    "width": "311.188px"
   },
   "toc_section_display": true,
   "toc_window_display": true
  }
 },
 "nbformat": 4,
 "nbformat_minor": 5
}
