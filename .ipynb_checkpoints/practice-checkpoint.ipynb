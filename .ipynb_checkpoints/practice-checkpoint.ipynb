{
 "cells": [
  {
   "cell_type": "markdown",
   "id": "aa5509fc",
   "metadata": {},
   "source": [
    "# Pandas - Guided Practice\n",
    "<img src='data/titanic_bw.jpg' width=80%>"
   ]
  },
  {
   "cell_type": "markdown",
   "id": "73131b25",
   "metadata": {},
   "source": [
    "## Import Library"
   ]
  },
  {
   "cell_type": "code",
   "execution_count": null,
   "id": "84cc0d39",
   "metadata": {
    "ExecuteTime": {
     "end_time": "2021-12-02T00:06:39.491798Z",
     "start_time": "2021-12-02T00:06:39.489199Z"
    }
   },
   "outputs": [],
   "source": [
    "# Import Pandas\n"
   ]
  },
  {
   "cell_type": "code",
   "execution_count": null,
   "id": "578ba04e",
   "metadata": {
    "ExecuteTime": {
     "end_time": "2021-12-02T00:06:39.630747Z",
     "start_time": "2021-12-02T00:06:39.495654Z"
    }
   },
   "outputs": [],
   "source": [
    "!ls"
   ]
  },
  {
   "cell_type": "markdown",
   "id": "7895fde4",
   "metadata": {},
   "source": [
    "## Load and Preview Data"
   ]
  },
  {
   "cell_type": "code",
   "execution_count": null,
   "id": "620834c6",
   "metadata": {
    "ExecuteTime": {
     "end_time": "2021-12-02T00:06:39.636192Z",
     "start_time": "2021-12-02T00:06:39.633827Z"
    }
   },
   "outputs": [],
   "source": [
    "# Load and save data as a variable. Show the dataframe.\n"
   ]
  },
  {
   "cell_type": "markdown",
   "id": "db50f92d",
   "metadata": {},
   "source": [
    "## View Summary and Description of Data"
   ]
  },
  {
   "cell_type": "code",
   "execution_count": null,
   "id": "511d2aa0",
   "metadata": {
    "ExecuteTime": {
     "end_time": "2021-12-02T00:06:39.641970Z",
     "start_time": "2021-12-02T00:06:39.639563Z"
    },
    "scrolled": false
   },
   "outputs": [],
   "source": [
    "# View summary of data.\n"
   ]
  },
  {
   "cell_type": "code",
   "execution_count": null,
   "id": "2273b768",
   "metadata": {
    "ExecuteTime": {
     "end_time": "2021-12-02T00:06:39.647265Z",
     "start_time": "2021-12-02T00:06:39.644821Z"
    }
   },
   "outputs": [],
   "source": [
    "# View descriptive statistics of data.\n"
   ]
  },
  {
   "cell_type": "code",
   "execution_count": null,
   "id": "7260a294",
   "metadata": {
    "ExecuteTime": {
     "end_time": "2021-12-02T00:04:00.991682Z",
     "start_time": "2021-12-02T00:04:00.972470Z"
    }
   },
   "outputs": [],
   "source": []
  },
  {
   "cell_type": "code",
   "execution_count": null,
   "id": "a29ee228",
   "metadata": {
    "ExecuteTime": {
     "end_time": "2021-12-02T00:04:01.010955Z",
     "start_time": "2021-12-02T00:04:00.994390Z"
    }
   },
   "outputs": [],
   "source": []
  },
  {
   "cell_type": "code",
   "execution_count": null,
   "id": "527f78df",
   "metadata": {
    "ExecuteTime": {
     "end_time": "2021-12-02T00:04:01.029455Z",
     "start_time": "2021-12-02T00:04:01.012882Z"
    }
   },
   "outputs": [],
   "source": []
  },
  {
   "cell_type": "markdown",
   "id": "8b54fc0b",
   "metadata": {},
   "source": [
    "## Explore\n",
    "- Check number of rows / columns.\n",
    "- Look at individual columns.\n",
    "- Check if (and where) there are missing values."
   ]
  },
  {
   "cell_type": "code",
   "execution_count": null,
   "id": "e8ddfa4b",
   "metadata": {
    "ExecuteTime": {
     "end_time": "2021-12-02T00:06:39.652109Z",
     "start_time": "2021-12-02T00:06:39.649857Z"
    }
   },
   "outputs": [],
   "source": [
    "# Check shape.\n"
   ]
  },
  {
   "cell_type": "code",
   "execution_count": null,
   "id": "2df92923",
   "metadata": {
    "ExecuteTime": {
     "end_time": "2021-12-02T00:06:39.657048Z",
     "start_time": "2021-12-02T00:06:39.654569Z"
    }
   },
   "outputs": [],
   "source": [
    "# len(df)\n"
   ]
  },
  {
   "cell_type": "code",
   "execution_count": null,
   "id": "a875a45a",
   "metadata": {
    "ExecuteTime": {
     "end_time": "2021-12-02T00:06:39.662793Z",
     "start_time": "2021-12-02T00:06:39.660487Z"
    }
   },
   "outputs": [],
   "source": [
    "# Look at single columns\n"
   ]
  },
  {
   "cell_type": "code",
   "execution_count": null,
   "id": "404a0d01",
   "metadata": {
    "ExecuteTime": {
     "end_time": "2021-12-02T00:04:01.062725Z",
     "start_time": "2021-12-02T00:04:01.056895Z"
    }
   },
   "outputs": [],
   "source": []
  },
  {
   "cell_type": "code",
   "execution_count": null,
   "id": "7bf2435b",
   "metadata": {
    "ExecuteTime": {
     "end_time": "2021-12-02T00:06:39.667000Z",
     "start_time": "2021-12-02T00:06:39.664855Z"
    }
   },
   "outputs": [],
   "source": [
    "# Check for missing values.\n"
   ]
  },
  {
   "cell_type": "markdown",
   "id": "91ed576d",
   "metadata": {},
   "source": [
    "## Alter\n",
    "- Drop rows.\n",
    "- Drop columns.\n",
    "- Slice out data based on some conditions.\n",
    "- Alter values based on some criteria."
   ]
  },
  {
   "cell_type": "code",
   "execution_count": null,
   "id": "abdb1dbc",
   "metadata": {
    "ExecuteTime": {
     "end_time": "2021-12-02T00:06:39.671639Z",
     "start_time": "2021-12-02T00:06:39.669103Z"
    }
   },
   "outputs": [],
   "source": [
    "# Dropping missing values.\n"
   ]
  },
  {
   "cell_type": "code",
   "execution_count": null,
   "id": "28611123",
   "metadata": {
    "ExecuteTime": {
     "end_time": "2021-12-02T00:04:01.118461Z",
     "start_time": "2021-12-02T00:04:01.114046Z"
    }
   },
   "outputs": [],
   "source": []
  },
  {
   "cell_type": "code",
   "execution_count": null,
   "id": "dbb3a7e8",
   "metadata": {
    "ExecuteTime": {
     "end_time": "2021-12-02T00:04:01.127759Z",
     "start_time": "2021-12-02T00:04:01.120727Z"
    }
   },
   "outputs": [],
   "source": []
  },
  {
   "cell_type": "code",
   "execution_count": null,
   "id": "26be43ee",
   "metadata": {
    "ExecuteTime": {
     "end_time": "2021-12-02T00:04:01.134533Z",
     "start_time": "2021-12-02T00:04:01.130335Z"
    }
   },
   "outputs": [],
   "source": []
  },
  {
   "cell_type": "code",
   "execution_count": null,
   "id": "85da8248",
   "metadata": {
    "ExecuteTime": {
     "end_time": "2021-12-02T00:06:39.677539Z",
     "start_time": "2021-12-02T00:06:39.674540Z"
    }
   },
   "outputs": [],
   "source": [
    "# Dropping rows.\n"
   ]
  },
  {
   "cell_type": "code",
   "execution_count": null,
   "id": "ad096f5b",
   "metadata": {
    "ExecuteTime": {
     "end_time": "2021-12-02T00:06:39.687409Z",
     "start_time": "2021-12-02T00:06:39.684621Z"
    }
   },
   "outputs": [],
   "source": [
    "# Dropping columns.\n"
   ]
  },
  {
   "cell_type": "code",
   "execution_count": null,
   "id": "24da5260",
   "metadata": {
    "ExecuteTime": {
     "end_time": "2021-12-02T00:04:01.220896Z",
     "start_time": "2021-12-02T00:04:01.204694Z"
    }
   },
   "outputs": [],
   "source": []
  },
  {
   "cell_type": "code",
   "execution_count": null,
   "id": "765af3a6",
   "metadata": {
    "ExecuteTime": {
     "end_time": "2021-12-02T00:04:01.243566Z",
     "start_time": "2021-12-02T00:04:01.223330Z"
    }
   },
   "outputs": [],
   "source": []
  },
  {
   "cell_type": "code",
   "execution_count": null,
   "id": "95130341",
   "metadata": {
    "ExecuteTime": {
     "end_time": "2021-12-02T00:04:01.250198Z",
     "start_time": "2021-12-02T00:04:01.246128Z"
    }
   },
   "outputs": [],
   "source": []
  },
  {
   "cell_type": "code",
   "execution_count": null,
   "id": "43f9c1b9",
   "metadata": {
    "ExecuteTime": {
     "end_time": "2021-12-02T00:06:39.695190Z",
     "start_time": "2021-12-02T00:06:39.691754Z"
    }
   },
   "outputs": [],
   "source": [
    "# Slicing data based on a condition. (using square brackets)\n"
   ]
  },
  {
   "cell_type": "code",
   "execution_count": null,
   "id": "a27d3785",
   "metadata": {
    "ExecuteTime": {
     "end_time": "2021-12-02T00:04:01.282292Z",
     "start_time": "2021-12-02T00:04:01.260123Z"
    }
   },
   "outputs": [],
   "source": []
  },
  {
   "cell_type": "code",
   "execution_count": null,
   "id": "f250fd1b",
   "metadata": {
    "ExecuteTime": {
     "end_time": "2021-12-02T00:04:01.323954Z",
     "start_time": "2021-12-02T00:04:01.293264Z"
    }
   },
   "outputs": [],
   "source": []
  },
  {
   "cell_type": "code",
   "execution_count": null,
   "id": "c1fdd5fe",
   "metadata": {
    "ExecuteTime": {
     "end_time": "2021-12-02T00:04:01.332211Z",
     "start_time": "2021-12-02T00:04:01.326195Z"
    }
   },
   "outputs": [],
   "source": []
  },
  {
   "cell_type": "code",
   "execution_count": null,
   "id": "9324cb19",
   "metadata": {
    "ExecuteTime": {
     "end_time": "2021-12-02T00:06:39.701034Z",
     "start_time": "2021-12-02T00:06:39.698079Z"
    }
   },
   "outputs": [],
   "source": [
    "# Preferred method (using .loc)\n"
   ]
  },
  {
   "cell_type": "code",
   "execution_count": null,
   "id": "d4ee1e0b",
   "metadata": {
    "ExecuteTime": {
     "end_time": "2021-12-02T00:04:01.372978Z",
     "start_time": "2021-12-02T00:04:01.364871Z"
    }
   },
   "outputs": [],
   "source": []
  },
  {
   "cell_type": "code",
   "execution_count": null,
   "id": "32f86925",
   "metadata": {
    "ExecuteTime": {
     "end_time": "2021-12-02T00:04:01.391812Z",
     "start_time": "2021-12-02T00:04:01.375288Z"
    }
   },
   "outputs": [],
   "source": []
  },
  {
   "cell_type": "code",
   "execution_count": null,
   "id": "a58e8625",
   "metadata": {
    "ExecuteTime": {
     "end_time": "2021-12-02T00:04:01.403190Z",
     "start_time": "2021-12-02T00:04:01.394680Z"
    }
   },
   "outputs": [],
   "source": []
  },
  {
   "cell_type": "code",
   "execution_count": null,
   "id": "d9b8a7e9",
   "metadata": {
    "ExecuteTime": {
     "end_time": "2021-12-02T00:06:39.705438Z",
     "start_time": "2021-12-02T00:06:39.702917Z"
    }
   },
   "outputs": [],
   "source": [
    "# Altering data based on some criteria.\n"
   ]
  },
  {
   "cell_type": "code",
   "execution_count": null,
   "id": "1ec2aa8c",
   "metadata": {
    "ExecuteTime": {
     "end_time": "2021-12-02T00:04:01.470764Z",
     "start_time": "2021-12-02T00:04:01.443047Z"
    }
   },
   "outputs": [],
   "source": []
  },
  {
   "cell_type": "code",
   "execution_count": null,
   "id": "eb288119",
   "metadata": {
    "ExecuteTime": {
     "end_time": "2021-12-02T00:04:01.480659Z",
     "start_time": "2021-12-02T00:04:01.473689Z"
    }
   },
   "outputs": [],
   "source": []
  },
  {
   "cell_type": "code",
   "execution_count": null,
   "id": "5f8920c7",
   "metadata": {
    "ExecuteTime": {
     "end_time": "2021-12-02T00:04:01.487546Z",
     "start_time": "2021-12-02T00:04:01.482948Z"
    }
   },
   "outputs": [],
   "source": []
  },
  {
   "cell_type": "code",
   "execution_count": null,
   "id": "f7530056",
   "metadata": {
    "ExecuteTime": {
     "end_time": "2021-12-02T00:04:01.500186Z",
     "start_time": "2021-12-02T00:04:01.490632Z"
    }
   },
   "outputs": [],
   "source": []
  },
  {
   "cell_type": "code",
   "execution_count": null,
   "id": "6842b9eb",
   "metadata": {},
   "outputs": [],
   "source": []
  }
 ],
 "metadata": {
  "kernelspec": {
   "display_name": "Python [conda env:learn-env] *",
   "language": "python",
   "name": "conda-env-learn-env-py"
  },
  "language_info": {
   "codemirror_mode": {
    "name": "ipython",
    "version": 3
   },
   "file_extension": ".py",
   "mimetype": "text/x-python",
   "name": "python",
   "nbconvert_exporter": "python",
   "pygments_lexer": "ipython3",
   "version": "3.6.9"
  },
  "toc": {
   "base_numbering": 1,
   "nav_menu": {},
   "number_sections": false,
   "sideBar": true,
   "skip_h1_title": false,
   "title_cell": "Table of Contents",
   "title_sidebar": "Contents",
   "toc_cell": false,
   "toc_position": {
    "height": "calc(100% - 180px)",
    "left": "10px",
    "top": "150px",
    "width": "290.2px"
   },
   "toc_section_display": true,
   "toc_window_display": true
  }
 },
 "nbformat": 4,
 "nbformat_minor": 5
}
