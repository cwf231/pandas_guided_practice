{
 "cells": [
  {
   "cell_type": "markdown",
   "id": "0aacf581",
   "metadata": {},
   "source": [
    "# Pandas - Guided Practice\n",
    "<img src='data/titanic_bw.jpg' width=80%>\n",
    "\n",
    "---\n",
    "\n",
    "### Objective\n",
    "*Review or introduce the most common methods and uses in Pandas.*"
   ]
  },
  {
   "cell_type": "markdown",
   "id": "e6ba34b0",
   "metadata": {},
   "source": [
    "## Import Library"
   ]
  },
  {
   "cell_type": "code",
   "execution_count": null,
   "id": "153558fb",
   "metadata": {
    "ExecuteTime": {
     "end_time": "2022-02-10T00:59:04.997389Z",
     "start_time": "2022-02-10T00:59:03.780593Z"
    }
   },
   "outputs": [],
   "source": [
    "# Import Pandas and matplotlib/seaborn for visualizations.\n",
    "import pandas as pd\n",
    "import matplotlib.pyplot as plt\n",
    "import seaborn as sns"
   ]
  },
  {
   "cell_type": "code",
   "execution_count": null,
   "id": "07b1e08f",
   "metadata": {
    "ExecuteTime": {
     "end_time": "2022-02-10T00:59:05.129688Z",
     "start_time": "2022-02-10T00:59:05.000046Z"
    }
   },
   "outputs": [],
   "source": [
    "!ls"
   ]
  },
  {
   "cell_type": "markdown",
   "id": "abe1e30a",
   "metadata": {},
   "source": [
    "## Creating Pandas DataFrame"
   ]
  },
  {
   "cell_type": "code",
   "execution_count": null,
   "id": "a21a4e32",
   "metadata": {
    "ExecuteTime": {
     "end_time": "2022-02-10T00:59:05.134639Z",
     "start_time": "2022-02-10T00:59:05.132017Z"
    }
   },
   "outputs": [],
   "source": [
    "# A Lists of Lists.\n"
   ]
  },
  {
   "cell_type": "code",
   "execution_count": null,
   "id": "aa754171",
   "metadata": {
    "ExecuteTime": {
     "end_time": "2022-02-10T00:59:05.139676Z",
     "start_time": "2022-02-10T00:59:05.137333Z"
    }
   },
   "outputs": [],
   "source": [
    "# A List of Dictionaries\n"
   ]
  },
  {
   "cell_type": "code",
   "execution_count": null,
   "id": "13b8c8d3",
   "metadata": {
    "ExecuteTime": {
     "end_time": "2022-02-10T00:59:05.148580Z",
     "start_time": "2022-02-10T00:59:05.146106Z"
    }
   },
   "outputs": [],
   "source": [
    "# A Dictionary of Lists\n"
   ]
  },
  {
   "cell_type": "markdown",
   "id": "4fd6659d",
   "metadata": {},
   "source": [
    "## Loading Data from `csv`"
   ]
  },
  {
   "cell_type": "code",
   "execution_count": null,
   "id": "d5d2e919",
   "metadata": {
    "ExecuteTime": {
     "end_time": "2022-02-10T00:59:05.155047Z",
     "start_time": "2022-02-10T00:59:05.152801Z"
    }
   },
   "outputs": [],
   "source": [
    "# Load and save data as a variable. Show the dataframe.\n"
   ]
  },
  {
   "cell_type": "code",
   "execution_count": null,
   "id": "53bf9dfc",
   "metadata": {
    "ExecuteTime": {
     "end_time": "2022-02-09T23:24:34.791585Z",
     "start_time": "2022-02-09T23:24:34.764252Z"
    }
   },
   "outputs": [],
   "source": []
  },
  {
   "cell_type": "code",
   "execution_count": null,
   "id": "6c6c264b",
   "metadata": {
    "ExecuteTime": {
     "end_time": "2022-02-09T23:24:47.431264Z",
     "start_time": "2022-02-09T23:24:47.412943Z"
    }
   },
   "outputs": [],
   "source": []
  },
  {
   "cell_type": "markdown",
   "id": "83a14d20",
   "metadata": {},
   "source": [
    "## View Summary and Description of Data"
   ]
  },
  {
   "cell_type": "code",
   "execution_count": null,
   "id": "1123877e",
   "metadata": {
    "ExecuteTime": {
     "end_time": "2022-02-10T00:59:05.160570Z",
     "start_time": "2022-02-10T00:59:05.157546Z"
    },
    "scrolled": false
   },
   "outputs": [],
   "source": [
    "# View summary of data.\n"
   ]
  },
  {
   "cell_type": "code",
   "execution_count": null,
   "id": "51f0d527",
   "metadata": {
    "ExecuteTime": {
     "end_time": "2022-02-10T00:59:05.165944Z",
     "start_time": "2022-02-10T00:59:05.162869Z"
    }
   },
   "outputs": [],
   "source": [
    "# View descriptive statistics of data.\n"
   ]
  },
  {
   "cell_type": "code",
   "execution_count": null,
   "id": "62c41aef",
   "metadata": {
    "ExecuteTime": {
     "end_time": "2022-02-09T23:26:19.342245Z",
     "start_time": "2022-02-09T23:26:19.309715Z"
    }
   },
   "outputs": [],
   "source": []
  },
  {
   "cell_type": "code",
   "execution_count": null,
   "id": "57d27783",
   "metadata": {
    "ExecuteTime": {
     "end_time": "2021-12-02T00:04:01.010955Z",
     "start_time": "2021-12-02T00:04:00.994390Z"
    }
   },
   "outputs": [],
   "source": []
  },
  {
   "cell_type": "code",
   "execution_count": null,
   "id": "80c1d12b",
   "metadata": {
    "ExecuteTime": {
     "end_time": "2021-12-02T00:04:01.029455Z",
     "start_time": "2021-12-02T00:04:01.012882Z"
    }
   },
   "outputs": [],
   "source": []
  },
  {
   "cell_type": "markdown",
   "id": "279b9c90",
   "metadata": {},
   "source": [
    "## Explore\n",
    "- Check number of rows / columns.\n",
    "- Look at individual columns.\n",
    "- Check if (and where) there are missing values."
   ]
  },
  {
   "cell_type": "code",
   "execution_count": null,
   "id": "d72ee5a9",
   "metadata": {
    "ExecuteTime": {
     "end_time": "2022-02-10T00:59:05.170712Z",
     "start_time": "2022-02-10T00:59:05.168353Z"
    }
   },
   "outputs": [],
   "source": [
    "# Check shape.\n"
   ]
  },
  {
   "cell_type": "code",
   "execution_count": null,
   "id": "a4900926",
   "metadata": {
    "ExecuteTime": {
     "end_time": "2022-02-09T23:28:28.148645Z",
     "start_time": "2022-02-09T23:28:28.142119Z"
    }
   },
   "outputs": [],
   "source": []
  },
  {
   "cell_type": "code",
   "execution_count": null,
   "id": "380422e5",
   "metadata": {
    "ExecuteTime": {
     "end_time": "2022-02-10T00:59:05.175555Z",
     "start_time": "2022-02-10T00:59:05.173084Z"
    }
   },
   "outputs": [],
   "source": [
    "# len(df) - not preferred.\n"
   ]
  },
  {
   "cell_type": "code",
   "execution_count": null,
   "id": "35508d6e",
   "metadata": {
    "ExecuteTime": {
     "end_time": "2022-02-10T00:59:05.181181Z",
     "start_time": "2022-02-10T00:59:05.178373Z"
    }
   },
   "outputs": [],
   "source": [
    "# This is better!\n"
   ]
  },
  {
   "cell_type": "code",
   "execution_count": null,
   "id": "c33182d3",
   "metadata": {
    "ExecuteTime": {
     "end_time": "2022-02-10T00:59:05.186530Z",
     "start_time": "2022-02-10T00:59:05.183980Z"
    }
   },
   "outputs": [],
   "source": [
    "# Look at single columns\n"
   ]
  },
  {
   "cell_type": "code",
   "execution_count": null,
   "id": "742121b0",
   "metadata": {
    "ExecuteTime": {
     "end_time": "2022-02-09T23:33:15.040258Z",
     "start_time": "2022-02-09T23:33:15.024218Z"
    }
   },
   "outputs": [],
   "source": []
  },
  {
   "cell_type": "code",
   "execution_count": null,
   "id": "f540d32f",
   "metadata": {
    "ExecuteTime": {
     "end_time": "2022-02-09T23:32:56.310413Z",
     "start_time": "2022-02-09T23:32:56.302445Z"
    }
   },
   "outputs": [],
   "source": []
  },
  {
   "cell_type": "code",
   "execution_count": null,
   "id": "436e27d4",
   "metadata": {
    "ExecuteTime": {
     "end_time": "2022-02-10T00:59:05.192305Z",
     "start_time": "2022-02-10T00:59:05.189461Z"
    }
   },
   "outputs": [],
   "source": [
    "# Check for missing values.\n"
   ]
  },
  {
   "cell_type": "markdown",
   "id": "36804a95",
   "metadata": {},
   "source": [
    "## Alter\n",
    "- Group By.\n",
    "- Drop rows.\n",
    "- Drop columns.\n",
    "- Slice out data based on some conditions.\n",
    "- Alter values based on some criteria."
   ]
  },
  {
   "cell_type": "code",
   "execution_count": null,
   "id": "080530df",
   "metadata": {
    "ExecuteTime": {
     "end_time": "2022-02-10T00:59:05.223331Z",
     "start_time": "2022-02-10T00:59:05.220726Z"
    }
   },
   "outputs": [],
   "source": [
    "# Use `group_by` to reindex.\n"
   ]
  },
  {
   "cell_type": "code",
   "execution_count": null,
   "id": "ad2b6186",
   "metadata": {
    "ExecuteTime": {
     "end_time": "2022-02-10T00:01:31.697932Z",
     "start_time": "2022-02-10T00:01:31.683658Z"
    }
   },
   "outputs": [],
   "source": []
  },
  {
   "cell_type": "code",
   "execution_count": null,
   "id": "f95bf24b",
   "metadata": {
    "ExecuteTime": {
     "end_time": "2022-02-10T00:02:13.147673Z",
     "start_time": "2022-02-10T00:02:13.114249Z"
    }
   },
   "outputs": [],
   "source": []
  },
  {
   "cell_type": "code",
   "execution_count": null,
   "id": "c72ef6af",
   "metadata": {
    "ExecuteTime": {
     "end_time": "2022-02-10T00:59:05.228362Z",
     "start_time": "2022-02-10T00:59:05.225743Z"
    }
   },
   "outputs": [],
   "source": [
    "# Dropping missing values.\n"
   ]
  },
  {
   "cell_type": "code",
   "execution_count": null,
   "id": "e0c245bd",
   "metadata": {
    "ExecuteTime": {
     "end_time": "2021-12-02T00:04:01.118461Z",
     "start_time": "2021-12-02T00:04:01.114046Z"
    }
   },
   "outputs": [],
   "source": []
  },
  {
   "cell_type": "code",
   "execution_count": null,
   "id": "b1a0153c",
   "metadata": {
    "ExecuteTime": {
     "end_time": "2021-12-02T00:04:01.127759Z",
     "start_time": "2021-12-02T00:04:01.120727Z"
    }
   },
   "outputs": [],
   "source": []
  },
  {
   "cell_type": "code",
   "execution_count": null,
   "id": "82e6394f",
   "metadata": {
    "ExecuteTime": {
     "end_time": "2021-12-02T00:04:01.134533Z",
     "start_time": "2021-12-02T00:04:01.130335Z"
    }
   },
   "outputs": [],
   "source": []
  },
  {
   "cell_type": "code",
   "execution_count": null,
   "id": "18a21805",
   "metadata": {
    "ExecuteTime": {
     "end_time": "2022-02-10T00:59:05.233932Z",
     "start_time": "2022-02-10T00:59:05.231453Z"
    }
   },
   "outputs": [],
   "source": [
    "# Dropping rows.\n"
   ]
  },
  {
   "cell_type": "code",
   "execution_count": null,
   "id": "ae51a731",
   "metadata": {
    "ExecuteTime": {
     "end_time": "2022-02-10T00:59:05.238769Z",
     "start_time": "2022-02-10T00:59:05.236327Z"
    }
   },
   "outputs": [],
   "source": [
    "# Dropping columns.\n"
   ]
  },
  {
   "cell_type": "code",
   "execution_count": null,
   "id": "c4feb122",
   "metadata": {
    "ExecuteTime": {
     "end_time": "2021-12-02T00:04:01.220896Z",
     "start_time": "2021-12-02T00:04:01.204694Z"
    }
   },
   "outputs": [],
   "source": []
  },
  {
   "cell_type": "code",
   "execution_count": null,
   "id": "fe91004a",
   "metadata": {
    "ExecuteTime": {
     "end_time": "2021-12-02T00:04:01.243566Z",
     "start_time": "2021-12-02T00:04:01.223330Z"
    }
   },
   "outputs": [],
   "source": []
  },
  {
   "cell_type": "code",
   "execution_count": null,
   "id": "61a8c564",
   "metadata": {
    "ExecuteTime": {
     "end_time": "2021-12-02T00:04:01.250198Z",
     "start_time": "2021-12-02T00:04:01.246128Z"
    }
   },
   "outputs": [],
   "source": []
  },
  {
   "cell_type": "code",
   "execution_count": null,
   "id": "7d3d1001",
   "metadata": {
    "ExecuteTime": {
     "end_time": "2022-02-10T00:59:05.243237Z",
     "start_time": "2022-02-10T00:59:05.240920Z"
    }
   },
   "outputs": [],
   "source": [
    "# Slicing data based on a condition. (using square brackets)\n"
   ]
  },
  {
   "cell_type": "code",
   "execution_count": null,
   "id": "6f12bdc6",
   "metadata": {
    "ExecuteTime": {
     "end_time": "2021-12-02T00:04:01.282292Z",
     "start_time": "2021-12-02T00:04:01.260123Z"
    }
   },
   "outputs": [],
   "source": []
  },
  {
   "cell_type": "code",
   "execution_count": null,
   "id": "fcc91f49",
   "metadata": {
    "ExecuteTime": {
     "end_time": "2021-12-02T00:04:01.323954Z",
     "start_time": "2021-12-02T00:04:01.293264Z"
    }
   },
   "outputs": [],
   "source": []
  },
  {
   "cell_type": "code",
   "execution_count": null,
   "id": "fd5409be",
   "metadata": {
    "ExecuteTime": {
     "end_time": "2021-12-02T00:04:01.332211Z",
     "start_time": "2021-12-02T00:04:01.326195Z"
    }
   },
   "outputs": [],
   "source": []
  },
  {
   "cell_type": "code",
   "execution_count": null,
   "id": "601cf96b",
   "metadata": {
    "ExecuteTime": {
     "end_time": "2022-02-10T00:59:05.248194Z",
     "start_time": "2022-02-10T00:59:05.245488Z"
    }
   },
   "outputs": [],
   "source": [
    "# Preferred method (using .loc)\n"
   ]
  },
  {
   "cell_type": "code",
   "execution_count": null,
   "id": "37f44bbb",
   "metadata": {
    "ExecuteTime": {
     "end_time": "2021-12-02T00:04:01.372978Z",
     "start_time": "2021-12-02T00:04:01.364871Z"
    }
   },
   "outputs": [],
   "source": []
  },
  {
   "cell_type": "code",
   "execution_count": null,
   "id": "0c51b847",
   "metadata": {
    "ExecuteTime": {
     "end_time": "2021-12-02T00:04:01.391812Z",
     "start_time": "2021-12-02T00:04:01.375288Z"
    }
   },
   "outputs": [],
   "source": []
  },
  {
   "cell_type": "code",
   "execution_count": null,
   "id": "f8a9f8a4",
   "metadata": {
    "ExecuteTime": {
     "end_time": "2021-12-02T00:04:01.403190Z",
     "start_time": "2021-12-02T00:04:01.394680Z"
    }
   },
   "outputs": [],
   "source": []
  },
  {
   "cell_type": "code",
   "execution_count": null,
   "id": "1cf33ca9",
   "metadata": {
    "ExecuteTime": {
     "end_time": "2022-02-10T00:59:05.252820Z",
     "start_time": "2022-02-10T00:59:05.250786Z"
    }
   },
   "outputs": [],
   "source": [
    "# Altering data based on some criteria.\n"
   ]
  },
  {
   "cell_type": "code",
   "execution_count": null,
   "id": "5b36f182",
   "metadata": {
    "ExecuteTime": {
     "end_time": "2021-12-02T00:04:01.470764Z",
     "start_time": "2021-12-02T00:04:01.443047Z"
    }
   },
   "outputs": [],
   "source": []
  },
  {
   "cell_type": "code",
   "execution_count": null,
   "id": "6e4424a7",
   "metadata": {
    "ExecuteTime": {
     "end_time": "2021-12-02T00:04:01.480659Z",
     "start_time": "2021-12-02T00:04:01.473689Z"
    }
   },
   "outputs": [],
   "source": []
  },
  {
   "cell_type": "code",
   "execution_count": null,
   "id": "f8da676f",
   "metadata": {
    "ExecuteTime": {
     "end_time": "2021-12-02T00:04:01.487546Z",
     "start_time": "2021-12-02T00:04:01.482948Z"
    }
   },
   "outputs": [],
   "source": []
  },
  {
   "cell_type": "code",
   "execution_count": null,
   "id": "dbaa103d",
   "metadata": {
    "ExecuteTime": {
     "end_time": "2021-12-02T00:04:01.500186Z",
     "start_time": "2021-12-02T00:04:01.490632Z"
    }
   },
   "outputs": [],
   "source": []
  },
  {
   "cell_type": "code",
   "execution_count": null,
   "id": "bf3cc11a",
   "metadata": {},
   "outputs": [],
   "source": []
  },
  {
   "cell_type": "markdown",
   "id": "ae9c8807",
   "metadata": {},
   "source": [
    "### Simple Plotting"
   ]
  },
  {
   "cell_type": "code",
   "execution_count": null,
   "id": "84a83b69",
   "metadata": {
    "ExecuteTime": {
     "end_time": "2022-02-10T00:59:05.197574Z",
     "start_time": "2022-02-10T00:59:05.194876Z"
    }
   },
   "outputs": [],
   "source": [
    "# Survivors.\n"
   ]
  },
  {
   "cell_type": "code",
   "execution_count": null,
   "id": "44ab04cc",
   "metadata": {
    "ExecuteTime": {
     "end_time": "2022-02-10T00:59:05.202975Z",
     "start_time": "2022-02-10T00:59:05.200447Z"
    }
   },
   "outputs": [],
   "source": [
    "# Filtering\n"
   ]
  },
  {
   "cell_type": "code",
   "execution_count": null,
   "id": "87c1c2e0",
   "metadata": {
    "ExecuteTime": {
     "end_time": "2022-02-10T00:59:05.207618Z",
     "start_time": "2022-02-10T00:59:05.205450Z"
    }
   },
   "outputs": [],
   "source": [
    "# Histogram showing male / female ages.\n",
    "## LONGHAND: matplotlib and pandas filtering.\n"
   ]
  },
  {
   "cell_type": "code",
   "execution_count": null,
   "id": "2bce5ead",
   "metadata": {
    "ExecuteTime": {
     "end_time": "2022-02-10T00:59:05.212980Z",
     "start_time": "2022-02-10T00:59:05.210592Z"
    }
   },
   "outputs": [],
   "source": [
    "## Shorthand: seaborn.\n"
   ]
  },
  {
   "cell_type": "code",
   "execution_count": null,
   "id": "879e7fdc",
   "metadata": {
    "ExecuteTime": {
     "end_time": "2022-02-10T00:59:05.217892Z",
     "start_time": "2022-02-10T00:59:05.215690Z"
    }
   },
   "outputs": [],
   "source": [
    "# Most popular `embark_town`.\n"
   ]
  }
 ],
 "metadata": {
  "kernelspec": {
   "display_name": "Python 3",
   "language": "python",
   "name": "python3"
  },
  "language_info": {
   "codemirror_mode": {
    "name": "ipython",
    "version": 3
   },
   "file_extension": ".py",
   "mimetype": "text/x-python",
   "name": "python",
   "nbconvert_exporter": "python",
   "pygments_lexer": "ipython3",
   "version": "3.6.9"
  },
  "toc": {
   "base_numbering": 1,
   "nav_menu": {},
   "number_sections": false,
   "sideBar": true,
   "skip_h1_title": false,
   "title_cell": "Table of Contents",
   "title_sidebar": "Contents",
   "toc_cell": false,
   "toc_position": {
    "height": "calc(100% - 180px)",
    "left": "10px",
    "top": "150px",
    "width": "282.188px"
   },
   "toc_section_display": true,
   "toc_window_display": true
  }
 },
 "nbformat": 4,
 "nbformat_minor": 5
}
